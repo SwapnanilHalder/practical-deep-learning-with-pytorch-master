{
 "cells": [
  {
   "cell_type": "code",
   "execution_count": 2,
   "metadata": {},
   "outputs": [],
   "source": [
    "import numpy as np\n",
    "import torch"
   ]
  },
  {
   "cell_type": "code",
   "execution_count": 3,
   "metadata": {},
   "outputs": [
    {
     "data": {
      "text/plain": [
       "True"
      ]
     },
     "execution_count": 3,
     "metadata": {},
     "output_type": "execute_result"
    }
   ],
   "source": [
    "torch.cuda.is_available()"
   ]
  },
  {
   "cell_type": "code",
   "execution_count": 4,
   "metadata": {},
   "outputs": [
    {
     "data": {
      "text/plain": [
       "1"
      ]
     },
     "execution_count": 4,
     "metadata": {},
     "output_type": "execute_result"
    }
   ],
   "source": [
    "torch.cuda.device_count()"
   ]
  },
  {
   "cell_type": "code",
   "execution_count": 5,
   "metadata": {},
   "outputs": [
    {
     "data": {
      "text/plain": [
       "array([ 0,  1,  2,  3,  4,  5,  6,  7,  8,  9, 10])"
      ]
     },
     "execution_count": 5,
     "metadata": {},
     "output_type": "execute_result"
    }
   ],
   "source": [
    "X_train = np.array(object = [i for i in range(0,11)])\n",
    "X_train"
   ]
  },
  {
   "cell_type": "code",
   "execution_count": 6,
   "metadata": {},
   "outputs": [],
   "source": [
    "X_train = X_train.reshape((-1,1))"
   ]
  },
  {
   "cell_type": "code",
   "execution_count": 7,
   "metadata": {},
   "outputs": [
    {
     "data": {
      "text/plain": [
       "array([[ 0],\n",
       "       [ 1],\n",
       "       [ 2],\n",
       "       [ 3],\n",
       "       [ 4],\n",
       "       [ 5],\n",
       "       [ 6],\n",
       "       [ 7],\n",
       "       [ 8],\n",
       "       [ 9],\n",
       "       [10]])"
      ]
     },
     "execution_count": 7,
     "metadata": {},
     "output_type": "execute_result"
    }
   ],
   "source": [
    "X_train"
   ]
  },
  {
   "cell_type": "code",
   "execution_count": 8,
   "metadata": {},
   "outputs": [],
   "source": [
    "y_train = 2 * X_train + 1"
   ]
  },
  {
   "cell_type": "code",
   "execution_count": 9,
   "metadata": {},
   "outputs": [
    {
     "data": {
      "text/plain": [
       "array([[ 1],\n",
       "       [ 3],\n",
       "       [ 5],\n",
       "       [ 7],\n",
       "       [ 9],\n",
       "       [11],\n",
       "       [13],\n",
       "       [15],\n",
       "       [17],\n",
       "       [19],\n",
       "       [21]])"
      ]
     },
     "execution_count": 9,
     "metadata": {},
     "output_type": "execute_result"
    }
   ],
   "source": [
    "y_train"
   ]
  },
  {
   "cell_type": "code",
   "execution_count": 10,
   "metadata": {},
   "outputs": [],
   "source": [
    "import torch.nn as nn\n",
    "from torch.autograd import Variable"
   ]
  },
  {
   "cell_type": "code",
   "execution_count": 925,
   "metadata": {},
   "outputs": [],
   "source": [
    "torch.set_default_tensor_type('torch.FloatTensor')"
   ]
  },
  {
   "cell_type": "code",
   "execution_count": 11,
   "metadata": {},
   "outputs": [],
   "source": [
    "#Creating class\n",
    "class LinearRegressionModel(nn.Module):\n",
    "    def __init__(self, input_size, output_size):\n",
    "        super(LinearRegressionModel, self).__init__()\n",
    "        self.linear = nn.Linear(input_dim , output_dim)\n",
    "        \n",
    "    def forward(self, x):\n",
    "        out = self.linear(x)\n",
    "        return out"
   ]
  },
  {
   "cell_type": "code",
   "execution_count": 12,
   "metadata": {},
   "outputs": [
    {
     "data": {
      "text/plain": [
       "LinearRegressionModel(\n",
       "  (linear): Linear(in_features=1, out_features=1, bias=True)\n",
       ")"
      ]
     },
     "execution_count": 12,
     "metadata": {},
     "output_type": "execute_result"
    }
   ],
   "source": [
    "input_dim = 1\n",
    "output_dim = 1\n",
    "\n",
    "model = LinearRegressionModel(input_dim, output_dim)\n",
    "model.cuda()"
   ]
  },
  {
   "cell_type": "code",
   "execution_count": 13,
   "metadata": {},
   "outputs": [],
   "source": [
    "criterion = nn.MSELoss()"
   ]
  },
  {
   "cell_type": "code",
   "execution_count": 14,
   "metadata": {},
   "outputs": [],
   "source": [
    "learning_rate = 0.01"
   ]
  },
  {
   "cell_type": "code",
   "execution_count": 15,
   "metadata": {},
   "outputs": [],
   "source": [
    "# Here SGD : Stochastic Gradient Descent\n",
    "optimizer = torch.optim.SGD(params=model.parameters(),lr=learning_rate)"
   ]
  },
  {
   "cell_type": "code",
   "execution_count": 16,
   "metadata": {},
   "outputs": [],
   "source": [
    "epochs = 100"
   ]
  },
  {
   "cell_type": "code",
   "execution_count": 17,
   "metadata": {},
   "outputs": [
    {
     "data": {
      "text/plain": [
       "True"
      ]
     },
     "execution_count": 17,
     "metadata": {},
     "output_type": "execute_result"
    }
   ],
   "source": [
    "torch.cuda.is_available()"
   ]
  },
  {
   "cell_type": "code",
   "execution_count": 18,
   "metadata": {},
   "outputs": [],
   "source": [
    "X = torch.from_numpy(X_train).cuda()"
   ]
  },
  {
   "cell_type": "code",
   "execution_count": 19,
   "metadata": {},
   "outputs": [
    {
     "name": "stdout",
     "output_type": "stream",
     "text": [
      "Epoch : 1, loss : 141.16270446777344\n",
      "Epoch : 2, loss : 11.519604682922363\n",
      "Epoch : 3, loss : 0.9449634552001953\n",
      "Epoch : 4, loss : 0.08236332982778549\n",
      "Epoch : 5, loss : 0.01194512564688921\n",
      "Epoch : 6, loss : 0.006142882630228996\n",
      "Epoch : 7, loss : 0.005611904431134462\n",
      "Epoch : 8, loss : 0.005511539522558451\n",
      "Epoch : 9, loss : 0.00544691039249301\n",
      "Epoch : 10, loss : 0.0053858403116464615\n",
      "Epoch : 11, loss : 0.005325671751052141\n",
      "Epoch : 12, loss : 0.005266213323920965\n",
      "Epoch : 13, loss : 0.005207390990108252\n",
      "Epoch : 14, loss : 0.005149213131517172\n",
      "Epoch : 15, loss : 0.005091734230518341\n",
      "Epoch : 16, loss : 0.005034853704273701\n",
      "Epoch : 17, loss : 0.004978660494089127\n",
      "Epoch : 18, loss : 0.004923040047287941\n",
      "Epoch : 19, loss : 0.004868074785917997\n",
      "Epoch : 20, loss : 0.004813723266124725\n",
      "Epoch : 21, loss : 0.004759958945214748\n",
      "Epoch : 22, loss : 0.004706819541752338\n",
      "Epoch : 23, loss : 0.004654255695641041\n",
      "Epoch : 24, loss : 0.004602288361638784\n",
      "Epoch : 25, loss : 0.004550900310277939\n",
      "Epoch : 26, loss : 0.0045000771060585976\n",
      "Epoch : 27, loss : 0.0044498261995613575\n",
      "Epoch : 28, loss : 0.004400127101689577\n",
      "Epoch : 29, loss : 0.004351012408733368\n",
      "Epoch : 30, loss : 0.004302415531128645\n",
      "Epoch : 31, loss : 0.004254386760294437\n",
      "Epoch : 32, loss : 0.004206865560263395\n",
      "Epoch : 33, loss : 0.004159886389970779\n",
      "Epoch : 34, loss : 0.004113432019948959\n",
      "Epoch : 35, loss : 0.004067491739988327\n",
      "Epoch : 36, loss : 0.004022073000669479\n",
      "Epoch : 37, loss : 0.003977159503847361\n",
      "Epoch : 38, loss : 0.003932748455554247\n",
      "Epoch : 39, loss : 0.003888828679919243\n",
      "Epoch : 40, loss : 0.0038454001769423485\n",
      "Epoch : 41, loss : 0.0038024522364139557\n",
      "Epoch : 42, loss : 0.0037600223440676928\n",
      "Epoch : 43, loss : 0.003718015505000949\n",
      "Epoch : 44, loss : 0.0036765262484550476\n",
      "Epoch : 45, loss : 0.0036354679614305496\n",
      "Epoch : 46, loss : 0.003594851354137063\n",
      "Epoch : 47, loss : 0.0035547055304050446\n",
      "Epoch : 48, loss : 0.0035150146577507257\n",
      "Epoch : 49, loss : 0.003475767793133855\n",
      "Epoch : 50, loss : 0.0034369449131190777\n",
      "Epoch : 51, loss : 0.0033985553309321404\n",
      "Epoch : 52, loss : 0.0033606167417019606\n",
      "Epoch : 53, loss : 0.003323094453662634\n",
      "Epoch : 54, loss : 0.0032859784550964832\n",
      "Epoch : 55, loss : 0.003249266417697072\n",
      "Epoch : 56, loss : 0.003212985349819064\n",
      "Epoch : 57, loss : 0.003177131526172161\n",
      "Epoch : 58, loss : 0.0031416367273777723\n",
      "Epoch : 59, loss : 0.003106567310169339\n",
      "Epoch : 60, loss : 0.0030718601774424314\n",
      "Epoch : 61, loss : 0.0030375656206160784\n",
      "Epoch : 62, loss : 0.003003650112077594\n",
      "Epoch : 63, loss : 0.0029701117891818285\n",
      "Epoch : 64, loss : 0.0029369350522756577\n",
      "Epoch : 65, loss : 0.0029041387606412172\n",
      "Epoch : 66, loss : 0.0028717059176415205\n",
      "Epoch : 67, loss : 0.0028396400157362223\n",
      "Epoch : 68, loss : 0.0028079254552721977\n",
      "Epoch : 69, loss : 0.002776580397039652\n",
      "Epoch : 70, loss : 0.002745575737208128\n",
      "Epoch : 71, loss : 0.0027149170637130737\n",
      "Epoch : 72, loss : 0.0026845817919820547\n",
      "Epoch : 73, loss : 0.002654619747772813\n",
      "Epoch : 74, loss : 0.002624969929456711\n",
      "Epoch : 75, loss : 0.002595666330307722\n",
      "Epoch : 76, loss : 0.0025666800793260336\n",
      "Epoch : 77, loss : 0.002538002096116543\n",
      "Epoch : 78, loss : 0.002509674057364464\n",
      "Epoch : 79, loss : 0.002481654053553939\n",
      "Epoch : 80, loss : 0.0024539371952414513\n",
      "Epoch : 81, loss : 0.0024265237152576447\n",
      "Epoch : 82, loss : 0.0023994315415620804\n",
      "Epoch : 83, loss : 0.0023726390209048986\n",
      "Epoch : 84, loss : 0.002346147783100605\n",
      "Epoch : 85, loss : 0.002319937339052558\n",
      "Epoch : 86, loss : 0.0022940458729863167\n",
      "Epoch : 87, loss : 0.0022684240248054266\n",
      "Epoch : 88, loss : 0.002243097173050046\n",
      "Epoch : 89, loss : 0.0022180327214300632\n",
      "Epoch : 90, loss : 0.0021932737436145544\n",
      "Epoch : 91, loss : 0.0021687769331038\n",
      "Epoch : 92, loss : 0.0021445578895509243\n",
      "Epoch : 93, loss : 0.0021206021774560213\n",
      "Epoch : 94, loss : 0.0020969428587704897\n",
      "Epoch : 95, loss : 0.002073530573397875\n",
      "Epoch : 96, loss : 0.00205036997795105\n",
      "Epoch : 97, loss : 0.002027468290179968\n",
      "Epoch : 98, loss : 0.00200484087690711\n",
      "Epoch : 99, loss : 0.0019824407063424587\n",
      "Epoch : 100, loss : 0.001960296416655183\n"
     ]
    }
   ],
   "source": [
    "torch.backends.cudnn.benchmark = True\n",
    "\n",
    "for epoch in range(epochs):\n",
    "    epoch +=1\n",
    "    inputs = Variable(torch.from_numpy(X_train).float()).cuda()\n",
    "    labels = Variable(torch.from_numpy(y_train).float()).cuda()\n",
    "    \n",
    "    # Clear Gradients w.r.t. parameters\n",
    "    optimizer.zero_grad()\n",
    "    \n",
    "    # Forward to get output\n",
    "    outputs = model(inputs)\n",
    "    \n",
    "    # Calculate loss\n",
    "    loss = criterion(outputs, labels)\n",
    "    \n",
    "    # Getting gradients w.r.t. parameters\n",
    "    loss.backward()\n",
    "    \n",
    "    # Updating parameters\n",
    "    optimizer.step()\n",
    "    \n",
    "    print(\"Epoch : {}, loss : {}\".format(epoch, loss))"
   ]
  },
  {
   "cell_type": "code",
   "execution_count": 935,
   "metadata": {},
   "outputs": [],
   "source": [
    "inputs = Variable(torch.from_numpy(X_train))\n",
    "labels = Variable(torch.from_numpy(y_train))"
   ]
  },
  {
   "cell_type": "code",
   "execution_count": 936,
   "metadata": {},
   "outputs": [
    {
     "data": {
      "text/plain": [
       "tensor(0.0039, device='cuda:0', grad_fn=<MseLossBackward>)"
      ]
     },
     "execution_count": 936,
     "metadata": {},
     "output_type": "execute_result"
    }
   ],
   "source": [
    "loss"
   ]
  },
  {
   "cell_type": "code",
   "execution_count": 937,
   "metadata": {},
   "outputs": [
    {
     "data": {
      "text/plain": [
       "0.003880455857142806"
      ]
     },
     "execution_count": 937,
     "metadata": {},
     "output_type": "execute_result"
    }
   ],
   "source": [
    "loss.item()"
   ]
  },
  {
   "cell_type": "code",
   "execution_count": 938,
   "metadata": {},
   "outputs": [
    {
     "data": {
      "text/plain": [
       "tensor([[ 1.1165],\n",
       "        [ 3.0997],\n",
       "        [ 5.0830],\n",
       "        [ 7.0662],\n",
       "        [ 9.0494],\n",
       "        [11.0326],\n",
       "        [13.0158],\n",
       "        [14.9991],\n",
       "        [16.9823],\n",
       "        [18.9655],\n",
       "        [20.9487]], device='cuda:0', grad_fn=<AddmmBackward>)"
      ]
     },
     "execution_count": 938,
     "metadata": {},
     "output_type": "execute_result"
    }
   ],
   "source": [
    "outputs"
   ]
  },
  {
   "cell_type": "code",
   "execution_count": 939,
   "metadata": {},
   "outputs": [],
   "source": [
    "predicted = model(Variable(torch.from_numpy(X_train).float().cuda())).data.cpu().numpy()"
   ]
  },
  {
   "cell_type": "code",
   "execution_count": 940,
   "metadata": {},
   "outputs": [
    {
     "data": {
      "text/plain": [
       "array([[ 1.1158781],\n",
       "       [ 3.0991907],\n",
       "       [ 5.0825033],\n",
       "       [ 7.0658154],\n",
       "       [ 9.049128 ],\n",
       "       [11.03244  ],\n",
       "       [13.015753 ],\n",
       "       [14.999065 ],\n",
       "       [16.982378 ],\n",
       "       [18.96569  ],\n",
       "       [20.949003 ]], dtype=float32)"
      ]
     },
     "execution_count": 940,
     "metadata": {},
     "output_type": "execute_result"
    }
   ],
   "source": [
    "predicted"
   ]
  },
  {
   "cell_type": "code",
   "execution_count": 941,
   "metadata": {},
   "outputs": [],
   "source": [
    "import matplotlib.pyplot as plt"
   ]
  },
  {
   "cell_type": "code",
   "execution_count": 947,
   "metadata": {},
   "outputs": [
    {
     "data": {
      "image/png": "[encoded data removed]",
      "text/plain": [
       "<Figure size 432x288 with 1 Axes>"
      ]
     },
     "metadata": {
      "needs_background": "light"
     },
     "output_type": "display_data"
    }
   ],
   "source": [
    "# Clear Figure\n",
    "plt.clf()\n",
    "\n",
    "# Get Predictions\n",
    "y_pred = model(Variable(torch.from_numpy(X_train).float().cuda())).data.cpu().numpy()\n",
    "\n",
    "#Plot true data \n",
    "plt.plot(X_train, y_train, 'go', label = 'True Data', alpha = 1)\n",
    "\n",
    "#Plot predicted data \n",
    "plt.plot(X_train, y_pred, 'b--', label = 'predicted Data', alpha = 1)\n",
    "\n",
    "# Legend and plot\n",
    "plt.legend(loc = 'best')\n",
    "plt.show()"
   ]
  },
  {
   "cell_type": "code",
   "execution_count": null,
   "metadata": {},
   "outputs": [],
   "source": []
  }
 ],
 "metadata": {
  "kernelspec": {
   "display_name": "Python 3",
   "language": "python",
   "name": "python3"
  },
  "language_info": {
   "codemirror_mode": {
    "name": "ipython",
    "version": 3
   },
   "file_extension": ".py",
   "mimetype": "text/x-python",
   "name": "python",
   "nbconvert_exporter": "python",
   "pygments_lexer": "ipython3",
   "version": "3.7.7"
  }
 },
 "nbformat": 4,
 "nbformat_minor": 4
}
