{
 "cells": [
  {
   "cell_type": "code",
   "execution_count": 1,
   "metadata": {},
   "outputs": [
    {
     "name": "stdout",
     "output_type": "stream",
     "text": [
      "True\n"
     ]
    }
   ],
   "source": [
    "import torch\n",
    "import torch.nn as nn\n",
    "from torch.autograd import Variable\n",
    "\n",
    "from torchvision import transforms\n",
    "from torchvision import datasets\n",
    "print(torch.cuda.is_available())\n",
    "torch.backends.cudnn.benchmark = True\n",
    "is_cuda = True"
   ]
  },
  {
   "cell_type": "code",
   "execution_count": 2,
   "metadata": {},
   "outputs": [],
   "source": [
    "train_dataset = datasets.MNIST(root='./data',\n",
    "                           train=True,\n",
    "                           transform=transforms.ToTensor(),\n",
    "                           download=True)\n",
    "\n",
    "test_dataset = datasets.MNIST(root = './data',\n",
    "                              train = False,\n",
    "                              transform=transforms.ToTensor(),\n",
    "                              download = True)"
   ]
  },
  {
   "cell_type": "code",
   "execution_count": 10,
   "metadata": {},
   "outputs": [],
   "source": [
    "batch_size = 100\n",
    "n_iters = 3000\n",
    "num_epochs = int(n_iters / (len(train_dataset) / batch_size))"
   ]
  },
  {
   "cell_type": "code",
   "execution_count": 4,
   "metadata": {},
   "outputs": [],
   "source": [
    "train_loader = torch.utils.data.DataLoader(train_dataset,batch_size, shuffle=True)\n",
    "test_loader = torch.utils.data.DataLoader(test_dataset,batch_size, shuffle=False)"
   ]
  },
  {
   "cell_type": "code",
   "execution_count": 6,
   "metadata": {},
   "outputs": [],
   "source": [
    "model = nn.Sequential(\n",
    "    nn.Linear(28*28, 100),\n",
    "    nn.ELU(),\n",
    "    nn.Linear(100, 10)\n",
    ")\n",
    "if is_cuda == True:\n",
    "    model.cuda()"
   ]
  },
  {
   "cell_type": "code",
   "execution_count": 27,
   "metadata": {},
   "outputs": [],
   "source": [
    "# class ANN(nn.Module):\n",
    "#     def __init__(self, input_dim, hidden_size, num_classes):\n",
    "#         super(ANN, self).__init__()\n",
    "#         # Linear Function\n",
    "#         self.fc1 = nn.Linear(input_dim, hidden_dim)\n",
    "#         # Non-Linearity\n",
    "#         self.elu = nn.ELU()\n",
    "#         # Linear Function(Readout)\n",
    "#         self.fc2 = nn.Linear(hidden_dim, output_dim)\n",
    "        \n",
    "#     def forward(self, x):\n",
    "#         out = self.fc1(x)\n",
    "#         out = self.elu(out)\n",
    "#         out = self.fc2(out)\n",
    "#         return out"
   ]
  },
  {
   "cell_type": "code",
   "execution_count": 28,
   "metadata": {},
   "outputs": [],
   "source": [
    "# input_dim = 28*28\n",
    "# hidden_dim = 100\n",
    "# output_dim = 10\n",
    "\n",
    "# model = ANN(input_dim, hidden_dim, output_dim)\n",
    "# if is_cuda == True:\n",
    "#     model.cuda()"
   ]
  },
  {
   "cell_type": "code",
   "execution_count": 7,
   "metadata": {},
   "outputs": [],
   "source": [
    "criterion = nn.CrossEntropyLoss()"
   ]
  },
  {
   "cell_type": "code",
   "execution_count": 8,
   "metadata": {},
   "outputs": [],
   "source": [
    "learning_rate = 0.1\n",
    "\n",
    "optimizer = torch.optim.SGD(model.parameters(), lr = learning_rate)"
   ]
  },
  {
   "cell_type": "code",
   "execution_count": 9,
   "metadata": {},
   "outputs": [
    {
     "name": "stdout",
     "output_type": "stream",
     "text": [
      "4\n",
      "torch.Size([100, 784])\n",
      "torch.Size([100])\n",
      "torch.Size([10, 100])\n",
      "torch.Size([10])\n"
     ]
    }
   ],
   "source": [
    "# No. of parameters layer\n",
    "print(len(list(model.parameters())))\n",
    "\n",
    "# No of parameters in 1st layer:\n",
    "print(list(model.parameters())[0].size())\n",
    "\n",
    "# No of parameters in 2nd layer:\n",
    "print(list(model.parameters())[1].size())\n",
    "\n",
    "# No of parameters in 3rd layer:\n",
    "print(list(model.parameters())[2].size())\n",
    "\n",
    "# No of parameters in 4th layer:\n",
    "print(list(model.parameters())[3].size())"
   ]
  },
  {
   "cell_type": "code",
   "execution_count": 11,
   "metadata": {},
   "outputs": [
    {
     "name": "stdout",
     "output_type": "stream",
     "text": [
      "Iteration: 500, loss: 0.2858935594558716, Accuracy: 90.8\n",
      "Iteration: 1000, loss: 0.3245282769203186, Accuracy: 91.93\n",
      "Iteration: 1500, loss: 0.2841361165046692, Accuracy: 92.61\n",
      "Iteration: 2000, loss: 0.21976561844348907, Accuracy: 93.44\n",
      "Iteration: 2500, loss: 0.1906813234090805, Accuracy: 94.0\n",
      "Iteration: 3000, loss: 0.22590512037277222, Accuracy: 94.54\n"
     ]
    }
   ],
   "source": [
    "iter = 0\n",
    "for epoch in range(num_epochs):\n",
    "    for i, (images, labels) in enumerate(train_loader):\n",
    "        images = Variable(images.view(-1, 28*28))\n",
    "        labels = Variable(labels)            \n",
    "        if is_cuda == True:\n",
    "            images = images.cuda()\n",
    "            labels = labels.cuda()\n",
    "        \n",
    "        optimizer.zero_grad()\n",
    "        \n",
    "        outputs = model(images)\n",
    "        \n",
    "        loss = criterion(outputs, labels)\n",
    "        \n",
    "        loss.backward()\n",
    "        \n",
    "        optimizer.step()\n",
    "        \n",
    "        iter += 1\n",
    "        \n",
    "        if iter % 500 == 0 :\n",
    "            correct = 0\n",
    "            total = 0\n",
    "            \n",
    "            for images_t, labels_t in test_loader:\n",
    "                if is_cuda == True:\n",
    "                    images_t = Variable(images_t.view(-1, 28*28)).cuda()\n",
    "                    labels_t = Variable(labels_t).cuda()\n",
    "                else :\n",
    "                    images_t = Variable(images_t.view(-1, 28*28))\n",
    "                    labels_t = Variable(labels_t)\n",
    "                    \n",
    "                outputs_t = model(images_t)\n",
    "                \n",
    "                _, predicted_t = torch.max(outputs_t.detach(), 1)\n",
    "                \n",
    "                total += labels_t.size(0) # or, labels_t.size()[0]\n",
    "                \n",
    "                correct += (predicted_t == labels_t).sum()\n",
    "                \n",
    "            accuracy = 100 * int(correct) / total\n",
    "            \n",
    "            print(\"Iteration: {}, loss: {}, Accuracy: {}\".format(iter, loss, accuracy))"
   ]
  },
  {
   "cell_type": "code",
   "execution_count": 33,
   "metadata": {},
   "outputs": [
    {
     "data": {
      "text/plain": [
       "0.9648"
      ]
     },
     "execution_count": 33,
     "metadata": {},
     "output_type": "execute_result"
    }
   ],
   "source": [
    "int(correct) / total"
   ]
  },
  {
   "cell_type": "code",
   "execution_count": 34,
   "metadata": {},
   "outputs": [
    {
     "data": {
      "text/plain": [
       "tensor([8, 9, 0, 1, 2, 7, 4, 5, 6, 7, 8, 0, 1, 2, 3, 4, 7, 8, 9, 7, 8, 6, 4, 1,\n",
       "        9, 8, 8, 4, 4, 7, 0, 1, 9, 2, 8, 7, 8, 2, 6, 0, 6, 5, 3, 3, 9, 9, 1, 4,\n",
       "        0, 6, 1, 0, 0, 6, 2, 1, 1, 7, 7, 8, 4, 6, 0, 7, 0, 3, 6, 8, 7, 1, 5, 2,\n",
       "        4, 9, 4, 2, 6, 4, 1, 7, 3, 6, 6, 0, 1, 2, 3, 4, 5, 6, 7, 8, 9, 0, 1, 2,\n",
       "        3, 4, 5, 6], device='cuda:0')"
      ]
     },
     "execution_count": 34,
     "metadata": {},
     "output_type": "execute_result"
    }
   ],
   "source": [
    "predicted_t"
   ]
  },
  {
   "cell_type": "code",
   "execution_count": 35,
   "metadata": {},
   "outputs": [
    {
     "data": {
      "text/plain": [
       "tensor([8, 9, 0, 1, 2, 3, 4, 5, 6, 7, 8, 0, 1, 2, 3, 4, 7, 8, 9, 7, 8, 6, 4, 1,\n",
       "        9, 3, 8, 4, 4, 7, 0, 1, 9, 2, 8, 7, 8, 2, 6, 0, 6, 5, 3, 3, 3, 9, 1, 4,\n",
       "        0, 6, 1, 0, 0, 6, 2, 1, 1, 7, 7, 8, 4, 6, 0, 7, 0, 3, 6, 8, 7, 1, 5, 2,\n",
       "        4, 9, 4, 3, 6, 4, 1, 7, 2, 6, 5, 0, 1, 2, 3, 4, 5, 6, 7, 8, 9, 0, 1, 2,\n",
       "        3, 4, 5, 6], device='cuda:0')"
      ]
     },
     "execution_count": 35,
     "metadata": {},
     "output_type": "execute_result"
    }
   ],
   "source": [
    "labels_t"
   ]
  },
  {
   "cell_type": "code",
   "execution_count": 36,
   "metadata": {},
   "outputs": [
    {
     "data": {
      "text/plain": [
       "tensor(94, device='cuda:0')"
      ]
     },
     "execution_count": 36,
     "metadata": {},
     "output_type": "execute_result"
    }
   ],
   "source": [
    "(predicted_t == labels_t).sum()"
   ]
  },
  {
   "cell_type": "code",
   "execution_count": 37,
   "metadata": {},
   "outputs": [
    {
     "data": {
      "text/plain": [
       "tensor([8, 8, 8, 7, 6, 7, 0, 4, 8, 7, 0, 1, 3, 7, 4, 0, 4, 9, 5, 0, 4, 8, 7, 5,\n",
       "        8, 0, 1, 7, 9, 1, 6, 9, 3, 7, 9, 0, 5, 2, 9, 2, 4, 7, 0, 0, 1, 6, 8, 0,\n",
       "        5, 7, 5, 3, 4, 2, 0, 5, 9, 2, 1, 4, 5, 8, 7, 3, 0, 7, 3, 2, 1, 0, 1, 1,\n",
       "        4, 2, 9, 3, 3, 0, 7, 0, 5, 7, 9, 7, 8, 2, 9, 4, 9, 0, 3, 1, 7, 8, 2, 1,\n",
       "        1, 9, 0, 6], device='cuda:0')"
      ]
     },
     "execution_count": 37,
     "metadata": {},
     "output_type": "execute_result"
    }
   ],
   "source": [
    "labels"
   ]
  },
  {
   "cell_type": "code",
   "execution_count": null,
   "metadata": {},
   "outputs": [],
   "source": []
  }
 ],
 "metadata": {
  "kernelspec": {
   "display_name": "Python 3",
   "language": "python",
   "name": "python3"
  },
  "language_info": {
   "codemirror_mode": {
    "name": "ipython",
    "version": 3
   },
   "file_extension": ".py",
   "mimetype": "text/x-python",
   "name": "python",
   "nbconvert_exporter": "python",
   "pygments_lexer": "ipython3",
   "version": "3.7.7"
  }
 },
 "nbformat": 4,
 "nbformat_minor": 4
}
