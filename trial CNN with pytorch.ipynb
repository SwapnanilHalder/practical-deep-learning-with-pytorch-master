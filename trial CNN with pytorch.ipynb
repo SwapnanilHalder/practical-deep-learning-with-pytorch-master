{
 "cells": [
  {
   "cell_type": "code",
   "execution_count": 1,
   "metadata": {},
   "outputs": [
    {
     "name": "stdout",
     "output_type": "stream",
     "text": [
      "True\n"
     ]
    }
   ],
   "source": [
    "import torch\n",
    "import torch.nn as nn\n",
    "from torch.autograd import Variable\n",
    "\n",
    "from torchvision import transforms\n",
    "from torchvision import datasets\n",
    "print(torch.cuda.is_available())\n",
    "torch.backends.cudnn.benchmark = True\n",
    "is_cuda = True"
   ]
  },
  {
   "cell_type": "code",
   "execution_count": 2,
   "metadata": {},
   "outputs": [],
   "source": [
    "train_dataset = datasets.MNIST(root='./data',\n",
    "                           train=True,\n",
    "                           transform=transforms.ToTensor(),\n",
    "                           download=True)\n",
    "\n",
    "test_dataset = datasets.MNIST(root = './data',\n",
    "                              train = False,\n",
    "                              transform=transforms.ToTensor(),\n",
    "                              download = True)"
   ]
  },
  {
   "cell_type": "code",
   "execution_count": 3,
   "metadata": {},
   "outputs": [],
   "source": [
    "batch_size = 100\n",
    "n_iters = 6000\n",
    "num_epochs = int(n_iters / (len(train_dataset) / batch_size))"
   ]
  },
  {
   "cell_type": "code",
   "execution_count": 4,
   "metadata": {},
   "outputs": [],
   "source": [
    "train_loader = torch.utils.data.DataLoader(train_dataset,batch_size, shuffle=True)\n",
    "test_loader = torch.utils.data.DataLoader(test_dataset,batch_size, shuffle=False)"
   ]
  },
  {
   "cell_type": "markdown",
   "metadata": {},
   "source": [
    "Here you have to calculate in_features. (i.e. no. of features for a single number photo)\n",
    "P : padding\n",
    "O : output height/lenght\n",
    "I : input height\n",
    "K : kernel size\n",
    "S : Stride\n",
    "\n",
    "P = (k-1)/2 for O == I\n",
    "\n",
    "O = (I- K+ 2P)/S  +  1  \n",
    "\n",
    "here, after \n",
    "cnn1 : (28,28) > (16,28,28)  16 is no. of kernel used\n",
    "maxpool1 : (16,28,28) > (16, 14, 14) as filtersize used in maxpool = 2\n",
    "cnn2 : (16, 14, 14) > (32, 14, 14)\n",
    "maxpool2 : (32,14,14) > (32,7,7)\n",
    "\n",
    "total : 32*7*7"
   ]
  },
  {
   "cell_type": "code",
   "execution_count": 5,
   "metadata": {},
   "outputs": [],
   "source": [
    "# class CNNModel(nn.Module):\n",
    "#     def __init__(self):\n",
    "#         super(CNNModel, self).__init__()\n",
    "        \n",
    "#         # Convolution 1\n",
    "#         self.cnn1 = nn.Conv2d(in_channels=1, out_channels=20, kernel_size=5, stride=1, padding=2)\n",
    "#         self.relu1 = nn.ELU()\n",
    "        \n",
    "#         # Max pool 1\n",
    "#         self.maxpool1 = nn.MaxPool2d(kernel_size=2)\n",
    "        \n",
    "#         # Convolution 2\n",
    "#         self.cnn2 = nn.Conv2d(in_channels=20, out_channels=40, kernel_size=5, stride=1, padding=2)\n",
    "#         self.relu2 = nn.ELU()\n",
    "\n",
    "#         # Max pool 2\n",
    "#         self.maxpool2 = nn.MaxPool2d(kernel_size=2)\n",
    "        \n",
    "#         # Fully connected (readout)\n",
    "#         # The trick to calc in_features is put anything there, \n",
    "#         # while output = model(image), the error will tell you the right dimention of in_features\n",
    "#         self.fc = nn.Linear(in_features=40*7*7, out_features=10)\n",
    "        \n",
    "#     def forward(self, x):\n",
    "#         out = self.cnn1(x)\n",
    "#         out = self.relu1(out)\n",
    "#         out = self.maxpool1(out)\n",
    "#         out = self.cnn2(out)\n",
    "#         out = self.relu2(out)\n",
    "#         out = self.maxpool2(out)\n",
    "        \n",
    "#         # Resize\n",
    "#         # Original size : (100, 32, 7, 7)\n",
    "#         # out.size(0) : 100\n",
    "#         # New out size : (100, 32*7*7)\n",
    "#         out = out.view(out.size(0), -1)\n",
    "        \n",
    "#         # Linear function (readout)\n",
    "#         out = self.fc(out)\n",
    "        \n",
    "#         return out"
   ]
  },
  {
   "cell_type": "code",
   "execution_count": 6,
   "metadata": {},
   "outputs": [
    {
     "data": {
      "text/plain": [
       "1960"
      ]
     },
     "execution_count": 6,
     "metadata": {},
     "output_type": "execute_result"
    }
   ],
   "source": [
    "# model = CNNModel()\n",
    "# if is_cuda == True:\n",
    "#     model.cuda()\n",
    "\n",
    "40*7*7"
   ]
  },
  {
   "cell_type": "code",
   "execution_count": 7,
   "metadata": {},
   "outputs": [],
   "source": [
    "model = nn.Sequential(\n",
    "    nn.Conv2d(in_channels=1, out_channels=20, kernel_size=5, stride=1, padding=2),\n",
    "    nn.ELU(),\n",
    "    \n",
    "    nn.MaxPool2d(kernel_size=2),\n",
    "    \n",
    "    nn.Conv2d(in_channels=20, out_channels=40, kernel_size=5, stride=1, padding=2),\n",
    "    nn.ELU(),\n",
    "    \n",
    "    nn.MaxPool2d(kernel_size=2),\n",
    "    \n",
    "    nn.Flatten(),\n",
    "    nn.Linear(in_features=40*7*7, out_features=10)\n",
    ")\n",
    "\n",
    "if is_cuda == True:\n",
    "    model.cuda()"
   ]
  },
  {
   "cell_type": "code",
   "execution_count": 8,
   "metadata": {},
   "outputs": [
    {
     "data": {
      "text/plain": [
       "Sequential(\n",
       "  (0): Conv2d(1, 20, kernel_size=(5, 5), stride=(1, 1), padding=(2, 2))\n",
       "  (1): ELU(alpha=1.0)\n",
       "  (2): MaxPool2d(kernel_size=2, stride=2, padding=0, dilation=1, ceil_mode=False)\n",
       "  (3): Conv2d(20, 40, kernel_size=(5, 5), stride=(1, 1), padding=(2, 2))\n",
       "  (4): ELU(alpha=1.0)\n",
       "  (5): MaxPool2d(kernel_size=2, stride=2, padding=0, dilation=1, ceil_mode=False)\n",
       "  (6): Flatten()\n",
       "  (7): Linear(in_features=1960, out_features=10, bias=True)\n",
       ")"
      ]
     },
     "execution_count": 8,
     "metadata": {},
     "output_type": "execute_result"
    }
   ],
   "source": [
    "model"
   ]
  },
  {
   "cell_type": "code",
   "execution_count": 9,
   "metadata": {},
   "outputs": [],
   "source": [
    "criterion = nn.CrossEntropyLoss()"
   ]
  },
  {
   "cell_type": "code",
   "execution_count": 10,
   "metadata": {},
   "outputs": [],
   "source": [
    "learning_rate = 0.01\n",
    "\n",
    "optimizer = torch.optim.SGD(model.parameters(), lr = learning_rate)"
   ]
  },
  {
   "cell_type": "code",
   "execution_count": 11,
   "metadata": {},
   "outputs": [
    {
     "name": "stdout",
     "output_type": "stream",
     "text": [
      "6\n",
      "torch.Size([20, 1, 5, 5])\n",
      "torch.Size([20])\n",
      "torch.Size([40, 20, 5, 5])\n",
      "torch.Size([40])\n",
      "torch.Size([10, 1960])\n",
      "torch.Size([10])\n"
     ]
    }
   ],
   "source": [
    "# No. of parameters layer\n",
    "print(len(list(model.parameters())))\n",
    "\n",
    "# No of parameters in 1st layer:\n",
    "print(list(model.parameters())[0].size())\n",
    "\n",
    "# No of parameters in 2nd layer:\n",
    "print(list(model.parameters())[1].size())\n",
    "\n",
    "# Conv. 2: 32 kernels with depth 16 each:\n",
    "print(list(model.parameters())[2].size())\n",
    "\n",
    "# Conv. 2 Bias : 32 kernels with depth 16 each:\n",
    "print(list(model.parameters())[3].size())\n",
    "\n",
    "# Fully connected layer:\n",
    "print(list(model.parameters())[4].size())\n",
    "\n",
    "# Fully connected layer size:\n",
    "print(list(model.parameters())[5].size())"
   ]
  },
  {
   "cell_type": "code",
   "execution_count": 12,
   "metadata": {},
   "outputs": [
    {
     "name": "stdout",
     "output_type": "stream",
     "text": [
      "Iteration: 500, loss: 0.3400763273239136, Accuracy: 90.13\n",
      "Iteration: 1000, loss: 0.23290015757083893, Accuracy: 93.46\n",
      "Iteration: 1500, loss: 0.26063305139541626, Accuracy: 94.67\n",
      "Iteration: 2000, loss: 0.21753603219985962, Accuracy: 95.69\n",
      "Iteration: 2500, loss: 0.1353742927312851, Accuracy: 96.37\n",
      "Iteration: 3000, loss: 0.1647464632987976, Accuracy: 96.73\n",
      "Iteration: 3500, loss: 0.04651112109422684, Accuracy: 97.29\n",
      "Iteration: 4000, loss: 0.04212779551744461, Accuracy: 97.46\n",
      "Iteration: 4500, loss: 0.04117724299430847, Accuracy: 97.78\n",
      "Iteration: 5000, loss: 0.04253332316875458, Accuracy: 97.93\n",
      "Iteration: 5500, loss: 0.038836121559143066, Accuracy: 98.06\n",
      "Iteration: 6000, loss: 0.05933374911546707, Accuracy: 98.24\n"
     ]
    }
   ],
   "source": [
    "iter = 0\n",
    "for epoch in range(num_epochs):\n",
    "    for i, (images, labels) in enumerate(train_loader):\n",
    "        images = Variable(images)\n",
    "        labels = Variable(labels)\n",
    "        if is_cuda == True:\n",
    "            images = images.cuda()\n",
    "            labels = labels.cuda()\n",
    "        \n",
    "        optimizer.zero_grad()\n",
    "        \n",
    "        outputs = model(images)\n",
    "        \n",
    "        loss = criterion(outputs, labels)\n",
    "        \n",
    "        loss.backward()\n",
    "        \n",
    "        optimizer.step()\n",
    "        \n",
    "        iter +=1\n",
    "        if iter % 500 == 0:\n",
    "            correct = 0\n",
    "            total = 0\n",
    "            \n",
    "            for images_t, labels_t in test_loader:\n",
    "                images_t = Variable(images_t)\n",
    "                labels_t = Variable(labels_t)\n",
    "                if is_cuda == True:\n",
    "                    images_t = images_t.cuda()\n",
    "                    labels_t = labels_t.cuda()\n",
    "                    \n",
    "                outputs_t = model(images_t)\n",
    "                _, predicted_t = torch.max(outputs_t.detach(), 1)\n",
    "                total += labels_t.size()[0]\n",
    "                correct += (predicted_t == labels_t).sum()\n",
    "                \n",
    "            accuracy = 100 * int(correct) / total\n",
    "            \n",
    "            print(\"Iteration: {}, loss: {}, Accuracy: {}\".format(iter, loss, accuracy))"
   ]
  },
  {
   "cell_type": "code",
   "execution_count": 13,
   "metadata": {},
   "outputs": [
    {
     "data": {
      "text/plain": [
       "tensor([8, 9, 0, 1, 2, 3, 4, 5, 6, 7, 8, 0, 1, 2, 3, 4, 7, 8, 9, 7, 8, 6, 4, 1,\n",
       "        9, 3, 8, 4, 4, 7, 0, 1, 9, 2, 8, 7, 8, 2, 6, 0, 6, 5, 3, 3, 3, 9, 1, 4,\n",
       "        0, 6, 1, 0, 0, 6, 2, 1, 1, 7, 7, 8, 4, 6, 0, 7, 0, 3, 6, 8, 7, 1, 5, 2,\n",
       "        4, 9, 4, 3, 6, 4, 1, 7, 2, 6, 6, 0, 1, 2, 3, 4, 5, 6, 7, 8, 9, 0, 1, 2,\n",
       "        3, 4, 5, 6], device='cuda:0')"
      ]
     },
     "execution_count": 13,
     "metadata": {},
     "output_type": "execute_result"
    }
   ],
   "source": [
    "predicted_t"
   ]
  },
  {
   "cell_type": "code",
   "execution_count": 14,
   "metadata": {},
   "outputs": [
    {
     "data": {
      "text/plain": [
       "tensor([8, 9, 0, 1, 2, 3, 4, 5, 6, 7, 8, 0, 1, 2, 3, 4, 7, 8, 9, 7, 8, 6, 4, 1,\n",
       "        9, 3, 8, 4, 4, 7, 0, 1, 9, 2, 8, 7, 8, 2, 6, 0, 6, 5, 3, 3, 3, 9, 1, 4,\n",
       "        0, 6, 1, 0, 0, 6, 2, 1, 1, 7, 7, 8, 4, 6, 0, 7, 0, 3, 6, 8, 7, 1, 5, 2,\n",
       "        4, 9, 4, 3, 6, 4, 1, 7, 2, 6, 5, 0, 1, 2, 3, 4, 5, 6, 7, 8, 9, 0, 1, 2,\n",
       "        3, 4, 5, 6], device='cuda:0')"
      ]
     },
     "execution_count": 14,
     "metadata": {},
     "output_type": "execute_result"
    }
   ],
   "source": [
    "labels_t"
   ]
  },
  {
   "cell_type": "code",
   "execution_count": 15,
   "metadata": {},
   "outputs": [
    {
     "data": {
      "text/plain": [
       "tensor([ True,  True,  True,  True,  True,  True,  True,  True,  True,  True,\n",
       "         True,  True,  True,  True,  True,  True,  True,  True,  True,  True,\n",
       "         True,  True,  True,  True,  True,  True,  True,  True,  True,  True,\n",
       "         True,  True,  True,  True,  True,  True,  True,  True,  True,  True,\n",
       "         True,  True,  True,  True,  True,  True,  True,  True,  True,  True,\n",
       "         True,  True,  True,  True,  True,  True,  True,  True,  True,  True,\n",
       "         True,  True,  True,  True,  True,  True,  True,  True,  True,  True,\n",
       "         True,  True,  True,  True,  True,  True,  True,  True,  True,  True,\n",
       "         True,  True, False,  True,  True,  True,  True,  True,  True,  True,\n",
       "         True,  True,  True,  True,  True,  True,  True,  True,  True,  True],\n",
       "       device='cuda:0')"
      ]
     },
     "execution_count": 15,
     "metadata": {},
     "output_type": "execute_result"
    }
   ],
   "source": [
    "(predicted_t == labels_t)"
   ]
  },
  {
   "cell_type": "code",
   "execution_count": null,
   "metadata": {},
   "outputs": [],
   "source": []
  }
 ],
 "metadata": {
  "kernelspec": {
   "display_name": "Python 3",
   "language": "python",
   "name": "python3"
  },
  "language_info": {
   "codemirror_mode": {
    "name": "ipython",
    "version": 3
   },
   "file_extension": ".py",
   "mimetype": "text/x-python",
   "name": "python",
   "nbconvert_exporter": "python",
   "pygments_lexer": "ipython3",
   "version": "3.7.7"
  }
 },
 "nbformat": 4,
 "nbformat_minor": 4
}
